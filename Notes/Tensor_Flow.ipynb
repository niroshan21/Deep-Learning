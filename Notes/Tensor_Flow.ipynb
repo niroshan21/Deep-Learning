{
  "nbformat": 4,
  "nbformat_minor": 0,
  "metadata": {
    "colab": {
      "provenance": [],
      "gpuType": "T4"
    },
    "kernelspec": {
      "name": "python3",
      "display_name": "Python 3"
    },
    "language_info": {
      "name": "python"
    },
    "accelerator": "GPU"
  },
  "cells": [
    {
      "cell_type": "markdown",
      "source": [
        "# Tensor Flow"
      ],
      "metadata": {
        "id": "m-xrx-WAO1ky"
      }
    },
    {
      "cell_type": "code",
      "source": [
        "import tensorflow as tf"
      ],
      "metadata": {
        "id": "-4hrLPwAO5EL"
      },
      "execution_count": null,
      "outputs": []
    },
    {
      "cell_type": "markdown",
      "source": [
        "##### We can check the version and GPU device name as below,"
      ],
      "metadata": {
        "id": "QWWgwPSWP7o7"
      }
    },
    {
      "cell_type": "code",
      "source": [
        "tf.__version__"
      ],
      "metadata": {
        "colab": {
          "base_uri": "https://localhost:8080/",
          "height": 36
        },
        "id": "hmCjPGiSO90j",
        "outputId": "8dc86357-d4d6-4570-f935-076771579b91"
      },
      "execution_count": null,
      "outputs": [
        {
          "output_type": "execute_result",
          "data": {
            "text/plain": [
              "'2.15.0'"
            ],
            "application/vnd.google.colaboratory.intrinsic+json": {
              "type": "string"
            }
          },
          "metadata": {},
          "execution_count": 2
        }
      ]
    },
    {
      "cell_type": "code",
      "source": [
        "tf.test.gpu_device_name()"
      ],
      "metadata": {
        "colab": {
          "base_uri": "https://localhost:8080/",
          "height": 36
        },
        "id": "x599klHPPB3r",
        "outputId": "e6dc4405-d9c0-49e5-90cf-571181eb7162"
      },
      "execution_count": null,
      "outputs": [
        {
          "output_type": "execute_result",
          "data": {
            "text/plain": [
              "''"
            ],
            "application/vnd.google.colaboratory.intrinsic+json": {
              "type": "string"
            }
          },
          "metadata": {},
          "execution_count": 3
        }
      ]
    },
    {
      "cell_type": "markdown",
      "source": [
        "##### We can get details about connected GPU."
      ],
      "metadata": {
        "id": "XxEMSWKLPodP"
      }
    },
    {
      "cell_type": "code",
      "source": [
        "!nvidia-smi"
      ],
      "metadata": {
        "colab": {
          "base_uri": "https://localhost:8080/"
        },
        "id": "knzDi1-hPK9l",
        "outputId": "d5ca6842-4da6-468d-a6ba-ebfb2a7f3d28"
      },
      "execution_count": null,
      "outputs": [
        {
          "output_type": "stream",
          "name": "stdout",
          "text": [
            "/bin/bash: line 1: nvidia-smi: command not found\n"
          ]
        }
      ]
    },
    {
      "cell_type": "markdown",
      "source": [
        "## Tensor vs NumPy Array"
      ],
      "metadata": {
        "id": "nsx_wUmLQltS"
      }
    },
    {
      "cell_type": "code",
      "source": [
        "import numpy as np\n",
        "import tensorflow as tf\n",
        "import time"
      ],
      "metadata": {
        "id": "Psvhwx5OQvpq"
      },
      "execution_count": null,
      "outputs": []
    },
    {
      "cell_type": "code",
      "source": [
        "shape = 5000"
      ],
      "metadata": {
        "id": "9CAsTbqZQ8s2"
      },
      "execution_count": null,
      "outputs": []
    },
    {
      "cell_type": "markdown",
      "source": [
        "##### NumPy Array"
      ],
      "metadata": {
        "id": "0HEPL45YSvc0"
      }
    },
    {
      "cell_type": "markdown",
      "source": [
        "CPU takes 75 seconds.\n",
        "\n",
        "GPU takes 48 seconds."
      ],
      "metadata": {
        "id": "PVyIFXkqS10c"
      }
    },
    {
      "cell_type": "code",
      "source": [
        "np_array =  np.random.uniform( size=[shape, shape] )\n",
        "np_array"
      ],
      "metadata": {
        "colab": {
          "base_uri": "https://localhost:8080/"
        },
        "id": "ZyB463BoRKH3",
        "outputId": "e11da06d-2291-49bc-c7f6-348c145da63a"
      },
      "execution_count": null,
      "outputs": [
        {
          "output_type": "execute_result",
          "data": {
            "text/plain": [
              "array([[0.10362413, 0.87597776, 0.69837199, ..., 0.9893146 , 0.93511581,\n",
              "        0.24203549],\n",
              "       [0.28280837, 0.15091394, 0.95468788, ..., 0.54134282, 0.83186619,\n",
              "        0.26306441],\n",
              "       [0.25087854, 0.98177457, 0.38392415, ..., 0.00404469, 0.87970308,\n",
              "        0.66022053],\n",
              "       ...,\n",
              "       [0.93198181, 0.80060108, 0.55886924, ..., 0.81973301, 0.44648266,\n",
              "        0.82532158],\n",
              "       [0.68668521, 0.76736737, 0.66619659, ..., 0.8195539 , 0.24993747,\n",
              "        0.09362865],\n",
              "       [0.79545412, 0.31612443, 0.06702508, ..., 0.85893303, 0.16478003,\n",
              "        0.85169999]])"
            ]
          },
          "metadata": {},
          "execution_count": 7
        }
      ]
    },
    {
      "cell_type": "code",
      "source": [
        "start =  time.time()\n",
        "\n",
        "for i in range(10):\n",
        "  np.matmul(np_array, np_array)\n",
        "\n",
        "end = time.time()\n",
        "\n",
        "time_period = end - start\n",
        "print(f'NumPy gets {time_period} seconds to execute. (Using GPU)')"
      ],
      "metadata": {
        "colab": {
          "base_uri": "https://localhost:8080/"
        },
        "id": "cprnBZb6Ra5Y",
        "outputId": "8ee33bac-d545-4fca-d16c-5723433066f7"
      },
      "execution_count": null,
      "outputs": [
        {
          "output_type": "stream",
          "name": "stdout",
          "text": [
            "NumPy gets 83.33790159225464 seconds to execute. (Using GPU)\n"
          ]
        }
      ]
    },
    {
      "cell_type": "markdown",
      "source": [
        "##### Tensor Array"
      ],
      "metadata": {
        "id": "zKuxS7OgTRWB"
      }
    },
    {
      "cell_type": "markdown",
      "source": [
        "CPU takes 45 seconds.\n",
        "\n",
        "GPU takes less than a 1 second. (Thats wht we use GPU - very speed computationns)"
      ],
      "metadata": {
        "id": "DW__e4DWTVv_"
      }
    },
    {
      "cell_type": "code",
      "source": [
        "tf_array = tf.random.uniform( [shape, shape] )"
      ],
      "metadata": {
        "id": "JehdlDt7TUuK"
      },
      "execution_count": null,
      "outputs": []
    },
    {
      "cell_type": "code",
      "source": [
        "start =  time.time()\n",
        "\n",
        "for i in range(10):\n",
        "  tf.matmul(tf_array, tf_array)\n",
        "\n",
        "end = time.time()\n",
        "\n",
        "time_period = end - start\n",
        "print(f'Tensor gets {time_period} seconds to execute. (Using GPU)')"
      ],
      "metadata": {
        "colab": {
          "base_uri": "https://localhost:8080/"
        },
        "id": "w0bo2ujfT-gM",
        "outputId": "a0be746a-cfe8-4251-d904-cf58a13de20d"
      },
      "execution_count": null,
      "outputs": [
        {
          "output_type": "stream",
          "name": "stdout",
          "text": [
            "Tensor gets 44.827515840530396 seconds to execute. (Using GPU)\n"
          ]
        }
      ]
    },
    {
      "cell_type": "markdown",
      "source": [
        "## Loss Functions"
      ],
      "metadata": {
        "id": "weZv3VnZVH8y"
      }
    },
    {
      "cell_type": "markdown",
      "source": [
        "### For Regressions"
      ],
      "metadata": {
        "id": "I95dNEuGAfni"
      }
    },
    {
      "cell_type": "markdown",
      "source": [
        "#### Mean Squred Error (*MSE*)"
      ],
      "metadata": {
        "id": "W-6MElv0z-av"
      }
    },
    {
      "cell_type": "code",
      "source": [
        "y_true = [0.0, 0.5, 0.7, 1.0]\n",
        "y_pred = [0.2, 0.3, 0.9, 0.7]"
      ],
      "metadata": {
        "id": "CnHSDDuPVNpC"
      },
      "execution_count": null,
      "outputs": []
    },
    {
      "cell_type": "code",
      "source": [
        "mse = tf.keras.losses.MeanSquaredError()\n",
        "mse"
      ],
      "metadata": {
        "colab": {
          "base_uri": "https://localhost:8080/"
        },
        "id": "CFaWrOAm0S5t",
        "outputId": "7557d6fd-9068-4901-ee00-e090c2f30462"
      },
      "execution_count": null,
      "outputs": [
        {
          "output_type": "execute_result",
          "data": {
            "text/plain": [
              "<keras.src.losses.MeanSquaredError at 0x7ab8ed370430>"
            ]
          },
          "metadata": {},
          "execution_count": 12
        }
      ]
    },
    {
      "cell_type": "code",
      "source": [
        "result = mse(y_true, y_pred).numpy()\n",
        "print(f'Mean Squared Error : {result}')"
      ],
      "metadata": {
        "colab": {
          "base_uri": "https://localhost:8080/"
        },
        "id": "-opXm55x0eNm",
        "outputId": "fe1bf005-e751-45cf-90a7-2fd5b0091dc2"
      },
      "execution_count": null,
      "outputs": [
        {
          "output_type": "stream",
          "name": "stdout",
          "text": [
            "Mean Squared Error : 0.05249999836087227\n"
          ]
        }
      ]
    },
    {
      "cell_type": "markdown",
      "source": [
        "#### Mean Absolute Error (MAE)"
      ],
      "metadata": {
        "id": "ZwZsgu4r10np"
      }
    },
    {
      "cell_type": "code",
      "source": [
        "mae = tf.keras.losses.MeanAbsoluteError()\n",
        "mae"
      ],
      "metadata": {
        "colab": {
          "base_uri": "https://localhost:8080/"
        },
        "id": "zmzOjBpX19ca",
        "outputId": "e15ec086-48ed-4a3e-d237-f5c8820b13ab"
      },
      "execution_count": null,
      "outputs": [
        {
          "output_type": "execute_result",
          "data": {
            "text/plain": [
              "<keras.src.losses.MeanAbsoluteError at 0x7ab885d5f280>"
            ]
          },
          "metadata": {},
          "execution_count": 14
        }
      ]
    },
    {
      "cell_type": "code",
      "source": [
        "result = mae(y_true, y_pred).numpy()\n",
        "print(f'Mean Absolute Error : {result}')"
      ],
      "metadata": {
        "colab": {
          "base_uri": "https://localhost:8080/"
        },
        "id": "CfMNXGBu2LJz",
        "outputId": "98734cba-b21d-48fe-aadb-c3d3846e771c"
      },
      "execution_count": null,
      "outputs": [
        {
          "output_type": "stream",
          "name": "stdout",
          "text": [
            "Mean Absolute Error : 0.22499999403953552\n"
          ]
        }
      ]
    },
    {
      "cell_type": "markdown",
      "source": [
        "#### Huber Loss"
      ],
      "metadata": {
        "id": "9wFI12pt3GTW"
      }
    },
    {
      "cell_type": "code",
      "source": [
        "huber = tf.keras.losses.Huber(delta=0.25)\n",
        "huber"
      ],
      "metadata": {
        "colab": {
          "base_uri": "https://localhost:8080/"
        },
        "id": "o_-RxsEd2bJA",
        "outputId": "15ae80b6-b859-4c54-80c9-f7743bcc96f6"
      },
      "execution_count": null,
      "outputs": [
        {
          "output_type": "execute_result",
          "data": {
            "text/plain": [
              "<keras.src.losses.Huber at 0x7ab885d5f4f0>"
            ]
          },
          "metadata": {},
          "execution_count": 16
        }
      ]
    },
    {
      "cell_type": "code",
      "source": [
        "result = huber(y_true, y_pred).numpy()\n",
        "print(f'Huber Loss : {result}')"
      ],
      "metadata": {
        "colab": {
          "base_uri": "https://localhost:8080/"
        },
        "id": "L6KwrRRJ3xkZ",
        "outputId": "85c0661b-a668-4a6a-a80c-5da8a90f04e8"
      },
      "execution_count": null,
      "outputs": [
        {
          "output_type": "stream",
          "name": "stdout",
          "text": [
            "Huber Loss : 0.025937499478459358\n"
          ]
        }
      ]
    },
    {
      "cell_type": "markdown",
      "source": [
        "### For Classification"
      ],
      "metadata": {
        "id": "r71cTPLpAsNf"
      }
    },
    {
      "cell_type": "markdown",
      "source": [
        "#### Binary Cross Entropy - For Binary Class Classifications\n",
        "We use sigmoid(x) activaion function here."
      ],
      "metadata": {
        "id": "N9Wun9FXMhhS"
      }
    },
    {
      "cell_type": "code",
      "source": [
        "y_true = [0, 1, 0, 0]\n",
        "y_pred = [0.3, 0.6, 0.7, 0.1]"
      ],
      "metadata": {
        "id": "yQPuZZ7FA0N0"
      },
      "execution_count": null,
      "outputs": []
    },
    {
      "cell_type": "code",
      "source": [
        "bce = tf.keras.losses.BinaryCrossentropy()\n",
        "result = bce(y_true, y_pred).numpy()\n",
        "\n",
        "print(f'Binary Cross Entropy : {result}')"
      ],
      "metadata": {
        "colab": {
          "base_uri": "https://localhost:8080/"
        },
        "id": "Q2IMdhjwO_5e",
        "outputId": "da9c113b-0025-4c7d-cdc8-151eefb601ba"
      },
      "execution_count": null,
      "outputs": [
        {
          "output_type": "stream",
          "name": "stdout",
          "text": [
            "Binary Cross Entropy : 0.544208288192749\n"
          ]
        }
      ]
    },
    {
      "cell_type": "markdown",
      "source": [
        "#### Categorical Cross Entropy - For Multi Class Classifications\n",
        "We use softmax(x) activaion function here.\n",
        "\n"
      ],
      "metadata": {
        "id": "UV8SShdgM0Hc"
      }
    },
    {
      "cell_type": "code",
      "source": [
        "y_true = [[0, 1, 0],[0, 0, 1]]\n",
        "y_pred = [[0.05, 0.95, 0],[0.1, 0.8, 0.1]]"
      ],
      "metadata": {
        "id": "cTsThA6kNHlK"
      },
      "execution_count": null,
      "outputs": []
    },
    {
      "cell_type": "code",
      "source": [
        "cce = tf.keras.losses.CategoricalCrossentropy()\n",
        "result = cce(y_true, y_pred).numpy()\n",
        "\n",
        "print(f'Categorical Cross Entropy : {result}')"
      ],
      "metadata": {
        "colab": {
          "base_uri": "https://localhost:8080/"
        },
        "id": "M0k8p0Lbb7Np",
        "outputId": "559d108c-61f3-45df-9088-53a56c247231"
      },
      "execution_count": null,
      "outputs": [
        {
          "output_type": "stream",
          "name": "stdout",
          "text": [
            "Categorical Cross Entropy : 1.1769392490386963\n"
          ]
        }
      ]
    },
    {
      "cell_type": "markdown",
      "source": [
        "#### Sparse Categorical Cross Entropy - For Multi Class Classifications"
      ],
      "metadata": {
        "id": "X8pBr3B8NIIv"
      }
    },
    {
      "cell_type": "code",
      "source": [
        "y_true = [1,2]\n",
        "y_pred = [[0.05, 0.95, 0],[0.1, 0.8, 0.1]]"
      ],
      "metadata": {
        "id": "LYvUqYZGNPGd"
      },
      "execution_count": null,
      "outputs": []
    },
    {
      "cell_type": "code",
      "source": [
        "scce = tf.keras.losses.SparseCategoricalCrossentropy()\n",
        "result = scce(y_true, y_pred).numpy()\n",
        "\n",
        "print(f'Sparse Categorical Cross Entropy : {result}')"
      ],
      "metadata": {
        "colab": {
          "base_uri": "https://localhost:8080/"
        },
        "id": "DKZtw6Fjd5Ib",
        "outputId": "470d8489-dc51-4648-af91-3c2545bdddfe"
      },
      "execution_count": null,
      "outputs": [
        {
          "output_type": "stream",
          "name": "stdout",
          "text": [
            "Sparse Categorical Cross Entropy : 1.1769392490386963\n"
          ]
        }
      ]
    },
    {
      "cell_type": "code",
      "source": [
        "1+3*2"
      ],
      "metadata": {
        "colab": {
          "base_uri": "https://localhost:8080/"
        },
        "id": "PKxR57G_jBW1",
        "outputId": "51e339fe-8c4a-4b02-b1c9-01908eea440e"
      },
      "execution_count": null,
      "outputs": [
        {
          "output_type": "execute_result",
          "data": {
            "text/plain": [
              "7"
            ]
          },
          "metadata": {},
          "execution_count": 2
        }
      ]
    },
    {
      "cell_type": "code",
      "source": [],
      "metadata": {
        "id": "AnyhBmYOjCHN"
      },
      "execution_count": null,
      "outputs": []
    }
  ]
}