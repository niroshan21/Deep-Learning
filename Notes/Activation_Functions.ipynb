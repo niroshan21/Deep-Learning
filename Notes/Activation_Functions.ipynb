{
  "nbformat": 4,
  "nbformat_minor": 0,
  "metadata": {
    "colab": {
      "provenance": []
    },
    "kernelspec": {
      "name": "python3",
      "display_name": "Python 3"
    },
    "language_info": {
      "name": "python"
    }
  },
  "cells": [
    {
      "cell_type": "markdown",
      "source": [
        "# Deep Learning - Activation Functions"
      ],
      "metadata": {
        "id": "W42a4zsf4TGm"
      }
    },
    {
      "cell_type": "markdown",
      "source": [
        "### Sigmoid Function"
      ],
      "metadata": {
        "id": "7nvmGwyk4dHB"
      }
    },
    {
      "cell_type": "code",
      "source": [
        "import numpy as np\n",
        "\n",
        "#Sigmoid activation function\n",
        "def sigmoid(x):\n",
        "  return 1.0/(1.0 + np.exp(-x))\n",
        "\n",
        "inputs = [13, 3, -12]\n",
        "\n",
        "for x in inputs:\n",
        "  temp = sigmoid(x)\n",
        "  print(temp)"
      ],
      "metadata": {
        "colab": {
          "base_uri": "https://localhost:8080/"
        },
        "id": "8lQ-bAmR4qGE",
        "outputId": "db177e9b-717d-495f-ab65-b279186d01c0"
      },
      "execution_count": null,
      "outputs": [
        {
          "output_type": "stream",
          "name": "stdout",
          "text": [
            "0.999997739675702\n",
            "0.9525741268224334\n",
            "6.144174602214718e-06\n"
          ]
        }
      ]
    },
    {
      "cell_type": "markdown",
      "source": [
        "### Tanh Function"
      ],
      "metadata": {
        "id": "d2KbxUzR6chJ"
      }
    },
    {
      "cell_type": "code",
      "source": [
        "import numpy as np\n",
        "\n",
        "#Tanh activation function\n",
        "def tanh(x):\n",
        "  return (np.exp(x) - np.exp(-x)) / (np.exp(x) + np.exp(-x))\n",
        "\n",
        "inputs = [13, 3, -12]\n",
        "\n",
        "for x in inputs:\n",
        "  temp = tanh(x)\n",
        "  print(temp)"
      ],
      "metadata": {
        "colab": {
          "base_uri": "https://localhost:8080/"
        },
        "id": "YXy3AbEh6fuG",
        "outputId": "fee7815b-23ec-4648-988e-c613533209a6"
      },
      "execution_count": null,
      "outputs": [
        {
          "output_type": "stream",
          "name": "stdout",
          "text": [
            "0.9999999999897818\n",
            "0.9950547536867306\n",
            "-0.9999999999244972\n"
          ]
        }
      ]
    },
    {
      "cell_type": "markdown",
      "source": [
        "### ReLu Function"
      ],
      "metadata": {
        "id": "0ODYS-7Z6oIp"
      }
    },
    {
      "cell_type": "code",
      "source": [
        "import numpy as np\n",
        "\n",
        "#ReLu activation function\n",
        "def relu(x):\n",
        "  return max(0.0, x)\n",
        "\n",
        "inputs = [13, 3, -12]\n",
        "\n",
        "for x in inputs:\n",
        "  temp = relu(x)\n",
        "  print(temp)"
      ],
      "metadata": {
        "colab": {
          "base_uri": "https://localhost:8080/"
        },
        "id": "s9elhvms6kmn",
        "outputId": "91f30f86-01fa-4e5f-f932-04f7c95e4c53"
      },
      "execution_count": null,
      "outputs": [
        {
          "output_type": "stream",
          "name": "stdout",
          "text": [
            "13\n",
            "3\n",
            "0.0\n"
          ]
        }
      ]
    },
    {
      "cell_type": "markdown",
      "source": [
        "### Leaky ReLu Function"
      ],
      "metadata": {
        "id": "1I7sgbL_6pDg"
      }
    },
    {
      "cell_type": "code",
      "source": [
        "import numpy as np\n",
        "\n",
        "#Leaky ReLu activation function\n",
        "def leakyRelu(x):\n",
        "  return max(0.1*x, x)\n",
        "\n",
        "inputs = [13, 3, -12]\n",
        "\n",
        "for x in inputs:\n",
        "  temp = leakyRelu(x)\n",
        "  print(temp)"
      ],
      "metadata": {
        "colab": {
          "base_uri": "https://localhost:8080/"
        },
        "id": "pc_U-lRO5U-C",
        "outputId": "ec181d0f-3908-4514-8aba-9d2baa112f15"
      },
      "execution_count": null,
      "outputs": [
        {
          "output_type": "stream",
          "name": "stdout",
          "text": [
            "13\n",
            "3\n",
            "-1.2000000000000002\n"
          ]
        }
      ]
    },
    {
      "cell_type": "markdown",
      "source": [
        "### Softmax Function"
      ],
      "metadata": {
        "id": "jqnkGPG37XxA"
      }
    },
    {
      "cell_type": "code",
      "source": [
        "import numpy as np\n",
        "\n",
        "#Softmax activation function\n",
        "def softmax(x):\n",
        "  return np.exp(x) / np.exp(x).sum()\n",
        "\n",
        "inputs = [1, 3, -2]\n",
        "\n",
        "for x in inputs:\n",
        "  temp = softmax(x)\n",
        "  print(temp)\n",
        "\n",
        "print(softmax(inputs))"
      ],
      "metadata": {
        "colab": {
          "base_uri": "https://localhost:8080/"
        },
        "id": "Cf-a1EtK7bDN",
        "outputId": "8b473b39-f68f-40b9-90e1-08ed986c420a"
      },
      "execution_count": null,
      "outputs": [
        {
          "output_type": "stream",
          "name": "stdout",
          "text": [
            "1.0\n",
            "1.0\n",
            "1.0\n",
            "[0.11849965 0.8756006  0.00589975]\n"
          ]
        }
      ]
    },
    {
      "cell_type": "code",
      "source": [],
      "metadata": {
        "id": "ShXdmqOl8kiw"
      },
      "execution_count": null,
      "outputs": []
    }
  ]
}